{
 "cells": [
  {
   "cell_type": "code",
   "execution_count": null,
   "metadata": {},
   "outputs": [
    {
     "name": "stdout",
     "output_type": "stream",
     "text": [
      "It is an odd number\n"
     ]
    }
   ],
   "source": [
    "#check odd-even\n",
    "n = int(input(\"Enter a number :\"))\n",
    "if(n%2!=0):\n",
    "    print(\"It is an odd number\")\n",
    "else:\n",
    "    print(\"It is an even number\")\n"
   ]
  },
  {
   "cell_type": "code",
   "execution_count": 5,
   "metadata": {},
   "outputs": [
    {
     "name": "stdout",
     "output_type": "stream",
     "text": [
      "The largest number is : 18\n"
     ]
    }
   ],
   "source": [
    "#program that accept three integer and print the largest among three.Make use only of if-else statement\n",
    "p = int(input(\"enter a number as p :\"))\n",
    "q = int(input(\"enter a numer as q :\"))\n",
    "r = int(input(\"enter a number as r :\"))\n",
    "if(p>q) and (p>r):\n",
    "    print(\"The largest number is:\",p)\n",
    "elif(q>p) and (q>r):\n",
    "    print(\"The largest number is:\",q)\n",
    "else:\n",
    "    print(\"The largest number is :\",r)\n",
    "\n"
   ]
  },
  {
   "cell_type": "code",
   "execution_count": 14,
   "metadata": {},
   "outputs": [
    {
     "name": "stdout",
     "output_type": "stream",
     "text": [
      "The given number1 is not divided by number2\n"
     ]
    }
   ],
   "source": [
    "#progrm that test the divisibility of a number (i.e,if a number is divisible by another number)\n",
    "num1 = int(input(\"Enter a number1 :\"))\n",
    "num2 = int(input(\"enter a number2 :\"))\n",
    "if(num1%num2==0):\n",
    "    print(\"The given number1 is divided by number2\")\n",
    "else:\n",
    "    print(\"The given number1 is not divided by number2\")"
   ]
  },
  {
   "cell_type": "code",
   "execution_count": 30,
   "metadata": {},
   "outputs": [
    {
     "name": "stdout",
     "output_type": "stream",
     "text": [
      "534.0 - 45.0 = 489.0\n"
     ]
    }
   ],
   "source": [
    "num1 = float(input(\"Enter the 1st number :\"))\n",
    "num2 = float(input(\"enter the third number :\"))\n",
    "operator = input(\"enter operator[+_*%/]\")\n",
    "if operator == '+':\n",
    "    result = num1 + num2\n",
    "elif operator == '-':\n",
    "    result = num1 - num2\n",
    "elif operator == '*':\n",
    "    result = num1 *num2\n",
    "elif operator == '%':\n",
    "    result = num1 % num2\n",
    "elif operator == '/':\n",
    "    result = num1 / num2\n",
    "else:\n",
    "    print(\"Invalid operator\")\n",
    "print(num1,operator,num2,'=',result)\n"
   ]
  },
  {
   "cell_type": "code",
   "execution_count": 28,
   "metadata": {},
   "outputs": [
    {
     "name": "stdout",
     "output_type": "stream",
     "text": [
      "The sum of the given nummbers is 4431\n"
     ]
    }
   ],
   "source": [
    "num1 = int(input(\"Enter a number1 :\"))\n",
    "num2 = int(input(\"enter a number2 :\"))\n",
    "num3 = int(input(\"enter a number3 :\"))\n",
    "summ = 0\n",
    "summ = num1 + num2 + num3\n",
    "print(\"The sum of the given nummbers is\",summ)"
   ]
  }
 ],
 "metadata": {
  "kernelspec": {
   "display_name": "Python 3",
   "language": "python",
   "name": "python3"
  },
  "language_info": {
   "codemirror_mode": {
    "name": "ipython",
    "version": 3
   },
   "file_extension": ".py",
   "mimetype": "text/x-python",
   "name": "python",
   "nbconvert_exporter": "python",
   "pygments_lexer": "ipython3",
   "version": "3.12.4"
  }
 },
 "nbformat": 4,
 "nbformat_minor": 2
}
